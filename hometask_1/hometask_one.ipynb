{
 "cells": [
  {
   "metadata": {},
   "cell_type": "markdown",
   "source": "### Task 1",
   "id": "dec4705354102cd"
  },
  {
   "metadata": {
    "ExecuteTime": {
     "end_time": "2024-05-12T15:43:36.723052Z",
     "start_time": "2024-05-12T15:43:36.714965Z"
    }
   },
   "cell_type": "code",
   "source": [
    "import math\n",
    "\n",
    "\n",
    "def solve_quadratic_equation(a=1, b=1, c=1):\n",
    "    \"\"\"\n",
    "    Solves the quadratic equation.\n",
    "    :param a: the first variable.\n",
    "    :param b: the second variable.\n",
    "    :param c: the third variable.\n",
    "    returns: the solution of the quadratic equation depending on the discriminant value.\n",
    "    \"\"\"\n",
    "    discriminant = math.pow(b, 2) - 4 * a * c\n",
    "    \n",
    "    if discriminant > 0:\n",
    "        root_one = (-b + math.sqrt(discriminant)) / (2 * a)\n",
    "        root_two = (-b - math.sqrt(discriminant)) / (2 * a)\n",
    "        return root_one, root_two\n",
    "    elif discriminant == 0:\n",
    "        root = -b / (2 * a)\n",
    "        return root\n",
    "    else:\n",
    "        return None\n",
    "    \n",
    "\n",
    "solve_quadratic_equation(1, -7, 4)"
   ],
   "id": "42918672f1946509",
   "outputs": [
    {
     "data": {
      "text/plain": [
       "(6.372281323269014, 0.6277186767309857)"
      ]
     },
     "execution_count": 1,
     "metadata": {},
     "output_type": "execute_result"
    }
   ],
   "execution_count": 1
  },
  {
   "metadata": {},
   "cell_type": "markdown",
   "source": "### Task 2",
   "id": "ee988d367ece4727"
  },
  {
   "metadata": {
    "ExecuteTime": {
     "end_time": "2024-05-12T15:43:36.728809Z",
     "start_time": "2024-05-12T15:43:36.724662Z"
    }
   },
   "cell_type": "code",
   "source": [
    "from typing import List\n",
    "\n",
    "\n",
    "def reverse_list(lst: List[int]) -> List[int]:\n",
    "    \"\"\"\n",
    "    Reverses a list\n",
    "    :param lst: the list to be reversed.\n",
    "    returns: the reversed list.\n",
    "    \"\"\"\n",
    "    return lst[::-1]\n",
    "\n",
    "reverse_list([1, 2, 3])"
   ],
   "id": "f7f63006a1f9509b",
   "outputs": [
    {
     "data": {
      "text/plain": [
       "[3, 2, 1]"
      ]
     },
     "execution_count": 2,
     "metadata": {},
     "output_type": "execute_result"
    }
   ],
   "execution_count": 2
  },
  {
   "metadata": {},
   "cell_type": "markdown",
   "source": "### Task 3",
   "id": "b8e22d33c18850c0"
  },
  {
   "metadata": {
    "ExecuteTime": {
     "end_time": "2024-05-12T15:43:36.733729Z",
     "start_time": "2024-05-12T15:43:36.728809Z"
    }
   },
   "cell_type": "code",
   "source": [
    "from typing import List\n",
    "\n",
    "\n",
    "def change(lst: List[int]) -> List[int]:\n",
    "    \"\"\"\n",
    "    Replaces the last element in a list with the first element.\n",
    "    :param lst: list to be changed.\n",
    "    :return: list with replaced elements.\n",
    "    \"\"\"\n",
    "    tmp = lst[0]\n",
    "    lst[0] = lst[-1]\n",
    "    lst[-1] = tmp\n",
    "    return lst\n",
    "\n",
    "change([1, 2, 3, 4, 5])"
   ],
   "id": "9bd1ed35f7307a18",
   "outputs": [
    {
     "data": {
      "text/plain": [
       "[5, 2, 3, 4, 1]"
      ]
     },
     "execution_count": 3,
     "metadata": {},
     "output_type": "execute_result"
    }
   ],
   "execution_count": 3
  },
  {
   "metadata": {},
   "cell_type": "markdown",
   "source": "### Task 4",
   "id": "932150fded38939a"
  },
  {
   "metadata": {
    "ExecuteTime": {
     "end_time": "2024-05-12T15:43:36.738815Z",
     "start_time": "2024-05-12T15:43:36.733729Z"
    }
   },
   "cell_type": "code",
   "source": [
    "import random\n",
    "from typing import List\n",
    "\n",
    "\n",
    "def useless(lst: List[int]) -> float:\n",
    "    \"\"\"\n",
    "    Dummy function for testing purposes of student.\n",
    "    :param lst: input numeric list.\n",
    "    :return: the result of the useless function.\n",
    "    \"\"\"\n",
    "    return max(lst) / len(lst)\n",
    "\n",
    "useless([random.randint(0, 500) for elem in range(100)])"
   ],
   "id": "5eb229b87e91326d",
   "outputs": [
    {
     "data": {
      "text/plain": [
       "4.93"
      ]
     },
     "execution_count": 4,
     "metadata": {},
     "output_type": "execute_result"
    }
   ],
   "execution_count": 4
  },
  {
   "metadata": {},
   "cell_type": "markdown",
   "source": "### Task 5",
   "id": "fb1ffba0f2cdfdc5"
  },
  {
   "metadata": {
    "ExecuteTime": {
     "end_time": "2024-05-12T15:43:36.745794Z",
     "start_time": "2024-05-12T15:43:36.739822Z"
    }
   },
   "cell_type": "code",
   "source": [
    "from typing import List\n",
    "\n",
    "\n",
    "string_list = ['Long', 'Short', 'Three', 'Four', 'Five', 'Six', 'Seven']\n",
    "\n",
    "def all_eq(lst: List[str]) -> List[str]:\n",
    "    \"\"\"\n",
    "    Makes each element of the list equal to the element with max length by adding _ to fill.\n",
    "    :param lst: list with strings.\n",
    "    :return: list of strings with equal length.\n",
    "    \"\"\"\n",
    "    max_length = 0\n",
    "    \n",
    "    for i in range(len(lst)):\n",
    "        if len(lst[i]) > max_length:\n",
    "            max_length = len(lst[i])            \n",
    "    \n",
    "    for i in range(len(lst)):\n",
    "        if len(lst[i]) < max_length:\n",
    "            lst[i] += '_' * (max_length - len(lst[i]))\n",
    "    \n",
    "    return lst\n",
    "\n",
    "\n",
    "all_eq(string_list)"
   ],
   "id": "cf83935a38fea2df",
   "outputs": [
    {
     "data": {
      "text/plain": [
       "['Long_', 'Short', 'Three', 'Four_', 'Five_', 'Six__', 'Seven']"
      ]
     },
     "execution_count": 5,
     "metadata": {},
     "output_type": "execute_result"
    }
   ],
   "execution_count": 5
  },
  {
   "metadata": {},
   "cell_type": "markdown",
   "source": "### Task 6 (Custom Sort)",
   "id": "658b671263aefa7"
  },
  {
   "metadata": {
    "ExecuteTime": {
     "end_time": "2024-05-12T15:43:36.758508Z",
     "start_time": "2024-05-12T15:43:36.754898Z"
    }
   },
   "cell_type": "code",
   "source": [
    "import random\n",
    "\n",
    "\n",
    "rand_list = [random.randint(0, 100) for item in range(0, 100)]\n",
    "to_check = sorted(rand_list)\n",
    "sorted_list = []\n",
    "\n",
    "\n",
    "for i in range(len(rand_list)):\n",
    "    item_to_add = min(rand_list)\n",
    "    rand_list.remove(item_to_add)\n",
    "    sorted_list.append(item_to_add)\n",
    "\n",
    "print(sorted_list == to_check)"
   ],
   "id": "8459b3b13b40fee6",
   "outputs": [
    {
     "name": "stdout",
     "output_type": "stream",
     "text": [
      "True\n"
     ]
    }
   ],
   "execution_count": 6
  }
 ],
 "metadata": {
  "kernelspec": {
   "display_name": "Python 3",
   "language": "python",
   "name": "python3"
  },
  "language_info": {
   "codemirror_mode": {
    "name": "ipython",
    "version": 2
   },
   "file_extension": ".py",
   "mimetype": "text/x-python",
   "name": "python",
   "nbconvert_exporter": "python",
   "pygments_lexer": "ipython2",
   "version": "2.7.6"
  }
 },
 "nbformat": 4,
 "nbformat_minor": 5
}
