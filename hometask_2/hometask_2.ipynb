{
 "cells": [
  {
   "metadata": {},
   "cell_type": "markdown",
   "source": "### Task 1. Find y value with x == 1.79",
   "id": "7c19616983b5a286"
  },
  {
   "metadata": {
    "ExecuteTime": {
     "end_time": "2024-05-20T11:07:29.751964Z",
     "start_time": "2024-05-20T11:07:29.744738Z"
    }
   },
   "cell_type": "code",
   "source": [
    "import math\n",
    "from typing import Union\n",
    "\n",
    "\n",
    "def calculate_y_value(x: Union[int, float] = 1.79) -> float:\n",
    "    \"\"\"\n",
    "    Calculates the y value of a given value.\n",
    "    :param x: The value to calculate the y value for.\n",
    "    :return: The y value of a given value.\n",
    "    \"\"\"\n",
    "    try:\n",
    "        return math.pow(math.cos(math.pow(math.e, x))\n",
    "                        + math.log((1 + x) ** 2)\n",
    "                        + math.sqrt(math.e ** math.cos(x) + math.sin(math.pi * x) ** 2)\n",
    "                        + math.sqrt(1 / x)\n",
    "                        + math.cos(x ** 2), math.sin(x))\n",
    "    except ZeroDivisionError:\n",
    "        print(\"Division by zero\")\n",
    "        \n",
    "\n",
    "calculate_y_value()"
   ],
   "id": "5f8cfc2b3ada8eca",
   "outputs": [
    {
     "data": {
      "text/plain": [
       "3.7230820101533415"
      ]
     },
     "execution_count": 1,
     "metadata": {},
     "output_type": "execute_result"
    }
   ],
   "execution_count": 1
  },
  {
   "metadata": {},
   "cell_type": "markdown",
   "source": "### Task 2. search_substr function implementation.",
   "id": "f9b385eb8ded1e01"
  },
  {
   "metadata": {
    "ExecuteTime": {
     "end_time": "2024-05-20T11:07:29.756572Z",
     "start_time": "2024-05-20T11:07:29.752982Z"
    }
   },
   "cell_type": "code",
   "source": [
    "def search_substr(subst: str, st: str) -> str:\n",
    "    \"\"\"\n",
    "    Validates that substring is present in the string.\n",
    "    :param subst: substring to check.\n",
    "    :param st: string to check.\n",
    "    :return: final result of function evaluation depending on substring and string.\n",
    "    \"\"\"\n",
    "    return 'Is there!' if st.lower().find(subst.lower()) else 'Miss!'\n",
    "\n",
    "\n",
    "search_substr('Elo', 'Hello World')"
   ],
   "id": "e058bbae110ca70e",
   "outputs": [
    {
     "data": {
      "text/plain": [
       "'Is there!'"
      ]
     },
     "execution_count": 2,
     "metadata": {},
     "output_type": "execute_result"
    }
   ],
   "execution_count": 2
  },
  {
   "metadata": {},
   "cell_type": "markdown",
   "source": "### Task 3. Find top 3 appearance of symbol in given text.",
   "id": "470c18d7a229352d"
  },
  {
   "metadata": {
    "ExecuteTime": {
     "end_time": "2024-05-20T11:07:29.762694Z",
     "start_time": "2024-05-20T11:07:29.757579Z"
    }
   },
   "cell_type": "code",
   "source": [
    "import string\n",
    "import re\n",
    "from collections import Counter\n",
    "\n",
    "\n",
    "def count_top_three_letters(some_text: str) -> list:\n",
    "    \"\"\"\n",
    "    Counts the top three letters of a string.\n",
    "    :param some_text: text to count.\n",
    "    :return: top three letters of a text.\n",
    "    \"\"\"\n",
    "    cleaned_text = re.sub(r'[{}]'.format(re.escape(string.punctuation) + string.whitespace), '', some_text)\n",
    "    return Counter(cleaned_text).most_common(3)\n",
    "\n",
    "\n",
    "text = \"\"\"\n",
    "Lorem ipsum dolor sit amet, consectetur adipiscing elit, sed do eiusmod tempor incididunt ut labore et dolore magna aliqua. Ut enim ad minim veniam, quis nostrud exercitation ullamco laboris nisi ut aliquip ex ea commodo consequat. Duis aute irure dolor in reprehenderit in voluptate velit esse cillum dolore eu fugiat nulla pariatur. Excepteur sint occaecat cupidatat non proident, sunt in culpa qui officia deserunt mollit anim id est laborum.\n",
    "\"\"\"\n",
    "\n",
    "count_top_three_letters(text)"
   ],
   "id": "6d4991231af20880",
   "outputs": [
    {
     "data": {
      "text/plain": [
       "[('i', 42), ('e', 37), ('t', 32)]"
      ]
     },
     "execution_count": 3,
     "metadata": {},
     "output_type": "execute_result"
    }
   ],
   "execution_count": 3
  },
  {
   "metadata": {},
   "cell_type": "markdown",
   "source": "### Task 4. Function that counts most 3 popular numbers in sequence.",
   "id": "8960e88e60ea5f64"
  },
  {
   "metadata": {
    "ExecuteTime": {
     "end_time": "2024-05-20T11:07:29.767481Z",
     "start_time": "2024-05-20T11:07:29.763701Z"
    }
   },
   "cell_type": "code",
   "source": [
    "import random\n",
    "from collections import Counter\n",
    "\n",
    "\n",
    "def count_it(num_sequence: str) -> dict:\n",
    "    \"\"\"\n",
    "    Counts the most popular numbers in sequence.\n",
    "    :param num_sequence: number sequence which is displayed as a string.\n",
    "    :return: dictionary with 3 most popular numbers.\n",
    "    \"\"\"\n",
    "    return dict(Counter(num_sequence).most_common(3))\n",
    "\n",
    "\n",
    "count_it(f'{random.randint(1, 5000000)}')"
   ],
   "id": "e8b6f0ba5259ef6a",
   "outputs": [
    {
     "data": {
      "text/plain": [
       "{'2': 2, '4': 1, '8': 1}"
      ]
     },
     "execution_count": 4,
     "metadata": {},
     "output_type": "execute_result"
    }
   ],
   "execution_count": 4
  },
  {
   "metadata": {},
   "cell_type": "markdown",
   "source": "### Task 5. Chess guesser.",
   "id": "ca56ceab49c05756"
  },
  {
   "metadata": {
    "ExecuteTime": {
     "end_time": "2024-05-20T11:07:29.773420Z",
     "start_time": "2024-05-20T11:07:29.768487Z"
    }
   },
   "cell_type": "code",
   "source": [
    "def threatens_queen(ally_position: tuple, enemy_position:tuple) -> bool:\n",
    "    \"\"\"\n",
    "    Checks if a position is threatened by queen. Checks in horizontal, vertical or diagonal.\n",
    "    :param ally_position: coordinates of the position of our figure.\n",
    "    :param enemy_position: coordinates of the position of enemy figure.\n",
    "    :return: returns True if the position is threatened and False otherwise.\n",
    "    \"\"\"\n",
    "    if ally_position[0] == enemy_position[0] or ally_position[1] == enemy_position[1]:\n",
    "        return True    \n",
    "    elif abs(ally_position[0] - enemy_position[0]) == abs(ally_position[1] - enemy_position[1]):\n",
    "        return True\n",
    "    else:\n",
    "        return False\n",
    "\n",
    "\n",
    "def threatens_knight(ally_position: tuple, enemy_position: tuple) -> bool:\n",
    "    \"\"\"\n",
    "    Checks if a position is threatened by knight.\n",
    "    :param ally_position: coordinates of the position of our figure.\n",
    "    :param enemy_position: coordinates of the position of enemy figure.\n",
    "    :return: \n",
    "    \"\"\"\n",
    "    dx = abs(ally_position[0] - enemy_position[0])\n",
    "    dy = abs(ally_position[1] - enemy_position[1])\n",
    "    return (dx == 2 and dy == 1) or (dx == 1 and dy == 2)\n",
    "\n",
    "\n",
    "if threatens_queen((2, 3), (4, 7)):\n",
    "    print(\"Queen treats ours\")\n",
    "else:\n",
    "    print(\"Queen doesn't treat ours\")\n",
    "\n",
    "\n",
    "if threatens_knight((6, 3), (2, 8)):\n",
    "    print(\"Knight treats ours\")\n",
    "else:\n",
    "    print(\"Knight doesn't treat ours\")"
   ],
   "id": "f1027f0289d885b3",
   "outputs": [
    {
     "name": "stdout",
     "output_type": "stream",
     "text": [
      "Queen doesn't treat ours\n",
      "Knight doesn't treat ours\n"
     ]
    }
   ],
   "execution_count": 5
  }
 ],
 "metadata": {
  "kernelspec": {
   "display_name": "Python 3",
   "language": "python",
   "name": "python3"
  },
  "language_info": {
   "codemirror_mode": {
    "name": "ipython",
    "version": 2
   },
   "file_extension": ".py",
   "mimetype": "text/x-python",
   "name": "python",
   "nbconvert_exporter": "python",
   "pygments_lexer": "ipython2",
   "version": "2.7.6"
  }
 },
 "nbformat": 4,
 "nbformat_minor": 5
}
