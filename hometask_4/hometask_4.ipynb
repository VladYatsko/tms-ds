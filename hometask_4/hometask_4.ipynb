{
 "cells": [
  {
   "metadata": {},
   "cell_type": "markdown",
   "source": "### Task 1. Return min and max",
   "id": "121fe3184fa6d88a"
  },
  {
   "metadata": {
    "ExecuteTime": {
     "end_time": "2024-05-25T13:44:15.523265Z",
     "start_time": "2024-05-25T13:44:15.515455Z"
    }
   },
   "cell_type": "code",
   "source": [
    "from typing import Tuple\n",
    "\n",
    "\n",
    "def find_min_max(str_of_nums: str) -> Tuple[int, int]:\n",
    "    \"\"\"\n",
    "    Find the smallest number and largest number in str_of_nums.\n",
    "    :param str_of_nums: string, which contains sequence of numbers with space used as separator.\n",
    "    :return: tuple with minimal and maximal value included.\n",
    "    \"\"\"\n",
    "    return min([int(elem) for elem in str_of_nums.split(\" \")]), max([int(elem) for elem in str_of_nums.split(\" \")])\n",
    "    \n",
    "find_min_max(\"1 3 5 7\")"
   ],
   "id": "64d4c5e4ffeaad9",
   "outputs": [
    {
     "data": {
      "text/plain": [
       "(1, 7)"
      ]
     },
     "execution_count": 1,
     "metadata": {},
     "output_type": "execute_result"
    }
   ],
   "execution_count": 1
  },
  {
   "metadata": {},
   "cell_type": "markdown",
   "source": "### Task 2. PIN function",
   "id": "e679ee5dc9258d82"
  },
  {
   "metadata": {
    "ExecuteTime": {
     "end_time": "2024-05-25T13:44:15.550568Z",
     "start_time": "2024-05-25T13:44:15.546958Z"
    }
   },
   "cell_type": "code",
   "source": [
    "def is_correct_pin(pin_code: str) -> bool:\n",
    "    \"\"\"\n",
    "    Check if a pin code is correct by len and contains only numeric value.\n",
    "    :param pin_code: string, which contains pin code to be validated.\n",
    "    :return: True or False depending on the input.\n",
    "    \"\"\"\n",
    "    return True if pin_code.isdigit() and (len(pin_code) == 4 or len(pin_code) == 6) else False\n",
    "\n",
    "is_correct_pin(\"1357\")"
   ],
   "id": "ac679d561b9b9f4e",
   "outputs": [
    {
     "data": {
      "text/plain": [
       "True"
      ]
     },
     "execution_count": 2,
     "metadata": {},
     "output_type": "execute_result"
    }
   ],
   "execution_count": 2
  },
  {
   "metadata": {
    "ExecuteTime": {
     "end_time": "2024-05-25T13:44:15.555134Z",
     "start_time": "2024-05-25T13:44:15.551577Z"
    }
   },
   "cell_type": "code",
   "source": "is_correct_pin(\"13573\")",
   "id": "ab01c9204a97f2f",
   "outputs": [
    {
     "data": {
      "text/plain": [
       "False"
      ]
     },
     "execution_count": 3,
     "metadata": {},
     "output_type": "execute_result"
    }
   ],
   "execution_count": 3
  },
  {
   "metadata": {
    "ExecuteTime": {
     "end_time": "2024-05-25T13:44:15.566087Z",
     "start_time": "2024-05-25T13:44:15.562223Z"
    }
   },
   "cell_type": "code",
   "source": "is_correct_pin(\"135738\")",
   "id": "28bc772355b34b5d",
   "outputs": [
    {
     "data": {
      "text/plain": [
       "True"
      ]
     },
     "execution_count": 4,
     "metadata": {},
     "output_type": "execute_result"
    }
   ],
   "execution_count": 4
  },
  {
   "metadata": {},
   "cell_type": "markdown",
   "source": "### Task 3. Quadratic numbers.",
   "id": "106184b3096bf909"
  },
  {
   "metadata": {
    "ExecuteTime": {
     "end_time": "2024-05-25T13:44:15.660682Z",
     "start_time": "2024-05-25T13:44:15.656126Z"
    }
   },
   "cell_type": "code",
   "source": [
    "import math\n",
    "from typing import List\n",
    "\n",
    "\n",
    "def is_quadratic_number(arr_of_nums: List[int]) -> List[int]:\n",
    "    \"\"\"\n",
    "    Check if all numbers in arr_of_nums are quadratic.\n",
    "    :param arr_of_nums: list of integers to be validated on quadratic form.\n",
    "    :return: list of integers which are quadratic.\n",
    "    \"\"\"\n",
    "    return list(filter(lambda num: num if math.sqrt(num).is_integer() else False, arr_of_nums))\n",
    "\n",
    "is_quadratic_number([1, 2, 3, 4, 5, 6, 7, 8, 9])"
   ],
   "id": "ff46380ad53f006d",
   "outputs": [
    {
     "data": {
      "text/plain": [
       "[1, 4, 9]"
      ]
     },
     "execution_count": 5,
     "metadata": {},
     "output_type": "execute_result"
    }
   ],
   "execution_count": 5
  },
  {
   "metadata": {},
   "cell_type": "markdown",
   "source": "### Task 4. Unique sequence",
   "id": "556673111c576a91"
  },
  {
   "metadata": {
    "ExecuteTime": {
     "end_time": "2024-05-25T13:44:16.112530Z",
     "start_time": "2024-05-25T13:44:15.661688Z"
    }
   },
   "cell_type": "code",
   "source": [
    "import pandas as pd\n",
    "\n",
    "\n",
    "def unique_in_order(arr_of_nums: List[int]) -> List[int]:\n",
    "    \"\"\"\n",
    "    Current function removes duplicate elements.\n",
    "    :param arr_of_nums: list with duplicates.\n",
    "    :return: list with unique items only.\n",
    "    \"\"\"\n",
    "    return pd.Series(arr_of_nums).drop_duplicates().to_list()\n",
    "\n",
    "unique_in_order([1, 2, 3, 1, 3, 4, 5, 9, 6, 7, 8, 9])"
   ],
   "id": "c1f9d0edcaa673a6",
   "outputs": [
    {
     "data": {
      "text/plain": [
       "[1, 2, 3, 4, 5, 9, 6, 7, 8]"
      ]
     },
     "execution_count": 6,
     "metadata": {},
     "output_type": "execute_result"
    }
   ],
   "execution_count": 6
  },
  {
   "metadata": {},
   "cell_type": "markdown",
   "source": "### Task 5. Min and max len",
   "id": "e7b1638a51dd8951"
  },
  {
   "metadata": {
    "ExecuteTime": {
     "end_time": "2024-05-25T13:44:16.117561Z",
     "start_time": "2024-05-25T13:44:16.113535Z"
    }
   },
   "cell_type": "code",
   "source": [
    "from typing import Sized\n",
    "import re\n",
    "import string\n",
    "\n",
    "\n",
    "def find_min_max_word(text: str) -> Tuple[Sized, Sized]:\n",
    "    \"\"\"\n",
    "    Find the smallest and largest word in text.\n",
    "    :param text: text as input.\n",
    "    :return: biggest and smallest words.\n",
    "    \"\"\"\n",
    "    list_to_check = re.split(f'[{re.escape(string.whitespace + string.punctuation)}]+', text)\n",
    "    \n",
    "    return min(list_to_check, key=len), max(list_to_check, key=len)\n",
    "\n",
    "find_min_max_word(\"this is the text with words to find\")"
   ],
   "id": "240a48c5efd7c7fd",
   "outputs": [
    {
     "data": {
      "text/plain": [
       "('is', 'words')"
      ]
     },
     "execution_count": 7,
     "metadata": {},
     "output_type": "execute_result"
    }
   ],
   "execution_count": 7
  },
  {
   "metadata": {},
   "cell_type": "markdown",
   "source": "### Task 6. Recursive sum",
   "id": "1a5891e3a3b2fcd5"
  },
  {
   "metadata": {
    "ExecuteTime": {
     "end_time": "2024-05-25T13:44:16.123108Z",
     "start_time": "2024-05-25T13:44:16.118566Z"
    }
   },
   "cell_type": "code",
   "source": [
    "def calculate_recursive_sum(num: int) -> int:\n",
    "    \"\"\"\n",
    "    Recursive function for calculating the sum of all numbers.\n",
    "    :param num: number to be decomposed and recursively summed.\n",
    "    :return: sum of all numbers.\n",
    "    \"\"\"\n",
    "    if num < 10:\n",
    "        return num\n",
    "    else:\n",
    "        return num % 10 + calculate_recursive_sum(num // 10)\n",
    "    \n",
    "calculate_recursive_sum(1234)"
   ],
   "id": "73a46581e705f42b",
   "outputs": [
    {
     "data": {
      "text/plain": [
       "10"
      ]
     },
     "execution_count": 8,
     "metadata": {},
     "output_type": "execute_result"
    }
   ],
   "execution_count": 8
  },
  {
   "metadata": {},
   "cell_type": "markdown",
   "source": "### Task 7. Mid-char of word",
   "id": "75100e6cc5a85ffd"
  },
  {
   "metadata": {
    "ExecuteTime": {
     "end_time": "2024-05-25T13:44:16.128063Z",
     "start_time": "2024-05-25T13:44:16.124116Z"
    }
   },
   "cell_type": "code",
   "source": [
    "def find_mid_symbol(word: str) -> str:\n",
    "    \"\"\"\n",
    "    Find the mid-symbol of a word.\n",
    "    :param word: word, where we need to find the mid-symbol.\n",
    "    :return: mid-symbol of word.\n",
    "    \"\"\"\n",
    "    if len(word) % 2 == 0:\n",
    "        return word[len(word) // 2 - 1: len(word) // 2 + 1]\n",
    "    else:\n",
    "        return word[math.floor(len(word) / 2)]\n",
    "    \n",
    "find_mid_symbol(\"helLo\")"
   ],
   "id": "52a06deb845efae1",
   "outputs": [
    {
     "data": {
      "text/plain": [
       "'l'"
      ]
     },
     "execution_count": 9,
     "metadata": {},
     "output_type": "execute_result"
    }
   ],
   "execution_count": 9
  },
  {
   "metadata": {
    "ExecuteTime": {
     "end_time": "2024-05-25T13:44:16.132509Z",
     "start_time": "2024-05-25T13:44:16.129068Z"
    }
   },
   "cell_type": "code",
   "source": "find_mid_symbol(\"bandit\")",
   "id": "e99f6bb275aaffe5",
   "outputs": [
    {
     "data": {
      "text/plain": [
       "'nd'"
      ]
     },
     "execution_count": 10,
     "metadata": {},
     "output_type": "execute_result"
    }
   ],
   "execution_count": 10
  },
  {
   "metadata": {},
   "cell_type": "markdown",
   "source": "### Task 8. Boolean function",
   "id": "2bbac17b55c6b4cb"
  },
  {
   "metadata": {
    "ExecuteTime": {
     "end_time": "2024-05-25T13:44:16.137021Z",
     "start_time": "2024-05-25T13:44:16.133514Z"
    }
   },
   "cell_type": "code",
   "source": [
    "def is_prime_number(num: int) -> bool:\n",
    "    \"\"\"\n",
    "    Check if a number is prime.\n",
    "    :param num: number to check.\n",
    "    :return: True or False depending on the input.\n",
    "    \"\"\"\n",
    "    return False if num % 2 == 0 or num % 3 == 0 or num % 5 == 0 or num <= 1 else True\n",
    "\n",
    "is_prime_number(25)"
   ],
   "id": "f9cc4111a70584",
   "outputs": [
    {
     "data": {
      "text/plain": [
       "False"
      ]
     },
     "execution_count": 11,
     "metadata": {},
     "output_type": "execute_result"
    }
   ],
   "execution_count": 11
  },
  {
   "metadata": {
    "ExecuteTime": {
     "end_time": "2024-05-25T13:44:16.141590Z",
     "start_time": "2024-05-25T13:44:16.138029Z"
    }
   },
   "cell_type": "code",
   "source": "is_prime_number(41)",
   "id": "67fe8550c082c284",
   "outputs": [
    {
     "data": {
      "text/plain": [
       "True"
      ]
     },
     "execution_count": 12,
     "metadata": {},
     "output_type": "execute_result"
    }
   ],
   "execution_count": 12
  },
  {
   "metadata": {},
   "cell_type": "markdown",
   "source": "### Task 9. Odd or even sum",
   "id": "bd0738e0b83e2084"
  },
  {
   "metadata": {
    "ExecuteTime": {
     "end_time": "2024-05-25T13:44:16.146607Z",
     "start_time": "2024-05-25T13:44:16.141590Z"
    }
   },
   "cell_type": "code",
   "source": [
    "import random\n",
    "from functools import reduce\n",
    "\n",
    "\n",
    "def define_odd_or_even(array_of_nums: List[int]) -> str:\n",
    "    \"\"\"\n",
    "    Define whether sum of numbers in the list is odd or even.\n",
    "    :param array_of_nums: list with numbers.\n",
    "    :return: string value of odd or even.\n",
    "    \"\"\"\n",
    "    return 'Even' if reduce(lambda x, y: x + y, array_of_nums) % 2 == 0 else 'Odd'\n",
    "\n",
    "define_odd_or_even([random.randint(1, 21) for num in range(1, 21)])"
   ],
   "id": "591e647d7b564fe4",
   "outputs": [
    {
     "data": {
      "text/plain": [
       "'Odd'"
      ]
     },
     "execution_count": 13,
     "metadata": {},
     "output_type": "execute_result"
    }
   ],
   "execution_count": 13
  },
  {
   "metadata": {},
   "cell_type": "markdown",
   "source": "### Task 10. Filtering previous hometask task and sum",
   "id": "ed5bba403b5f2787"
  },
  {
   "metadata": {
    "ExecuteTime": {
     "end_time": "2024-05-25T13:44:16.153466Z",
     "start_time": "2024-05-25T13:44:16.148128Z"
    }
   },
   "cell_type": "code",
   "source": [
    "def create_hourglass_array(size: int) -> List[List[int]]:\n",
    "    \"\"\"\n",
    "    Creates the hourglass array.\n",
    "    :param size: defines the size of the array.\n",
    "    :return: refilled list.\n",
    "    \"\"\"\n",
    "    initial_array = [[0 for _ in range(size)] for _ in range(size)]\n",
    "\n",
    "    for i in range(size):\n",
    "        for j in range(size):            \n",
    "            if i <= size // 2:\n",
    "                if i <= j < size - i:\n",
    "                    initial_array[i][j] = 1            \n",
    "            else:\n",
    "                if size - i - 1 <= j <= i:\n",
    "                    initial_array[i][j] = 1\n",
    "\n",
    "    return initial_array\n",
    "\n",
    "\n",
    "def calculate_hourglass_sum(hourglass_array: List[List[int]]) -> int:\n",
    "    \"\"\"\n",
    "    Calculate the sum of all hourglass numbers != 0.\n",
    "    :param hourglass_array: array which is filled in hourglass way.\n",
    "    :return: sum of all hourglass numbers != 0.\n",
    "    \"\"\"\n",
    "    result = 0\n",
    "    \n",
    "    for elem in hourglass_array:\n",
    "        result += reduce(lambda x, y: x + y, filter(lambda x: x == 1, elem))\n",
    "        \n",
    "    return result\n",
    "\n",
    "calculate_hourglass_sum(create_hourglass_array(5))"
   ],
   "id": "4b90a3e3101a4280",
   "outputs": [
    {
     "data": {
      "text/plain": [
       "17"
      ]
     },
     "execution_count": 14,
     "metadata": {},
     "output_type": "execute_result"
    }
   ],
   "execution_count": 14
  }
 ],
 "metadata": {
  "kernelspec": {
   "display_name": "Python 3",
   "language": "python",
   "name": "python3"
  },
  "language_info": {
   "codemirror_mode": {
    "name": "ipython",
    "version": 2
   },
   "file_extension": ".py",
   "mimetype": "text/x-python",
   "name": "python",
   "nbconvert_exporter": "python",
   "pygments_lexer": "ipython2",
   "version": "2.7.6"
  }
 },
 "nbformat": 4,
 "nbformat_minor": 5
}
