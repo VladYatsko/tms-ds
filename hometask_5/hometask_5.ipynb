{
 "cells": [
  {
   "metadata": {},
   "cell_type": "markdown",
   "source": "### Task 1. Implementing class Money.",
   "id": "32ebfd10cb7636d3"
  },
  {
   "metadata": {
    "ExecuteTime": {
     "end_time": "2024-05-30T11:23:27.960939Z",
     "start_time": "2024-05-30T11:23:27.951429Z"
    }
   },
   "cell_type": "code",
   "source": [
    "class Money:\n",
    "    def __init__(self, rubles: int = 0, kopecks: int = 0):\n",
    "        self._rubles = rubles\n",
    "        self._kopecks = kopecks\n",
    "        self.normalize()\n",
    "\n",
    "    @property\n",
    "    def rubles(self):\n",
    "        return self._rubles\n",
    "\n",
    "    @rubles.setter\n",
    "    def rubles(self, value: int):\n",
    "        if not isinstance(value, int):\n",
    "            raise TypeError('Rubles must be a integer.')\n",
    "        self._rubles = value\n",
    "        \n",
    "    @property\n",
    "    def kopecks(self):\n",
    "        return self._kopecks\n",
    "    \n",
    "    @kopecks.setter\n",
    "    def kopecks(self, value: int):\n",
    "        if not isinstance(value, int):\n",
    "            raise TypeError('Kopecks must be a integer.')\n",
    "        self._kopecks = value\n",
    "\n",
    "    def normalize(self) -> None:\n",
    "        \"\"\"\n",
    "        Current function saves the logic for normalizing the amount of rubles and kopecks.\n",
    "        :return: None. just provides normalization logic for rubles and kopecks.\n",
    "        \"\"\"\n",
    "        if self.kopecks >= 100:\n",
    "            self.rubles += self.kopecks // 100\n",
    "            self.kopecks = self.kopecks % 100\n",
    "        elif self.kopecks < 0:\n",
    "            self.rubles -= (-self.kopecks) // 100 + 1\n",
    "            self.kopecks = 100 - (-self.kopecks) % 100\n",
    "\n",
    "    def __add__(self, other) -> object:\n",
    "        return Money(self.rubles + other.rubles, self.kopecks + other.kopecks)\n",
    "\n",
    "    def __sub__(self, other) -> object:\n",
    "        return Money(self.rubles - other.rubles, self.kopecks - other.kopecks)\n",
    "\n",
    "    def __mul__(self, factor) -> object:\n",
    "        total_kopecks = (self.rubles * 100 + self.kopecks) * factor\n",
    "        rubles = int(total_kopecks // 100)\n",
    "        kopecks = int(total_kopecks % 100)\n",
    "        return Money(rubles, kopecks)\n",
    "\n",
    "    def __truediv__(self, divisor) -> object:\n",
    "        total_kopecks = self.rubles * 100 + self.kopecks\n",
    "        result_kopecks = total_kopecks / divisor\n",
    "        rubles = int(result_kopecks // 100)\n",
    "        kopecks = int(result_kopecks % 100)\n",
    "        return Money(rubles, kopecks)\n",
    "\n",
    "    def __floordiv__(self, other) -> object:\n",
    "        total_kopecks_self = self.rubles * 100 + self.kopecks\n",
    "        total_kopecks_other = other.rubles * 100 + other.kopecks\n",
    "        return total_kopecks_self // total_kopecks_other\n",
    "\n",
    "    def __eq__(self, other) -> bool:\n",
    "        return self.rubles == other.rubles and self.kopecks == other.kopecks\n",
    "\n",
    "    def __ne__(self, other) -> bool:\n",
    "        return not self == other\n",
    "\n",
    "    def __lt__(self, other) -> bool:\n",
    "        return (self.rubles, self.kopecks) < (other.rubles, other.kopecks)\n",
    "\n",
    "    def __le__(self, other) -> bool:\n",
    "        return (self.rubles, self.kopecks) <= (other.rubles, other.kopecks)\n",
    "\n",
    "    def __gt__(self, other) -> bool:\n",
    "        return (self.rubles, self.kopecks) > (other.rubles, other.kopecks)\n",
    "\n",
    "    def __ge__(self, other) -> bool:\n",
    "        return (self.rubles, self.kopecks) >= (other.rubles, other.kopecks)\n",
    "\n",
    "    def __str__(self) -> str:\n",
    "        return f'{self.rubles},{self.kopecks:02d}'"
   ],
   "id": "802b8259364eed7a",
   "outputs": [],
   "execution_count": 1
  },
  {
   "metadata": {
    "ExecuteTime": {
     "end_time": "2024-05-30T11:23:27.967253Z",
     "start_time": "2024-05-30T11:23:27.961944Z"
    }
   },
   "cell_type": "code",
   "source": "print(first_money := Money(5, 30))",
   "id": "1bfb7785f11bc04c",
   "outputs": [
    {
     "name": "stdout",
     "output_type": "stream",
     "text": [
      "5,30\n"
     ]
    }
   ],
   "execution_count": 2
  },
  {
   "metadata": {
    "ExecuteTime": {
     "end_time": "2024-05-30T11:23:27.974034Z",
     "start_time": "2024-05-30T11:23:27.967253Z"
    }
   },
   "cell_type": "code",
   "source": "print(second_money := Money(10, 80))",
   "id": "fa6e40995a1ecf09",
   "outputs": [
    {
     "name": "stdout",
     "output_type": "stream",
     "text": [
      "10,80\n"
     ]
    }
   ],
   "execution_count": 3
  },
  {
   "metadata": {
    "ExecuteTime": {
     "end_time": "2024-05-30T11:23:27.981067Z",
     "start_time": "2024-05-30T11:23:27.977040Z"
    }
   },
   "cell_type": "code",
   "source": "print(first_money + second_money)",
   "id": "6bdebe006027eaef",
   "outputs": [
    {
     "name": "stdout",
     "output_type": "stream",
     "text": [
      "16,10\n"
     ]
    }
   ],
   "execution_count": 4
  },
  {
   "metadata": {
    "ExecuteTime": {
     "end_time": "2024-05-30T11:23:27.994617Z",
     "start_time": "2024-05-30T11:23:27.989655Z"
    }
   },
   "cell_type": "code",
   "source": "first_money > second_money",
   "id": "362187485261661d",
   "outputs": [
    {
     "data": {
      "text/plain": [
       "False"
      ]
     },
     "execution_count": 5,
     "metadata": {},
     "output_type": "execute_result"
    }
   ],
   "execution_count": 5
  },
  {
   "metadata": {},
   "cell_type": "markdown",
   "source": "### Task 2. Implementing class Matrix.",
   "id": "e8bde568a38151ca"
  },
  {
   "metadata": {
    "ExecuteTime": {
     "end_time": "2024-05-30T11:23:28.005224Z",
     "start_time": "2024-05-30T11:23:27.995623Z"
    }
   },
   "cell_type": "code",
   "source": [
    "from typing import List\n",
    "\n",
    "\n",
    "class Matrix:\n",
    "    def __init__(self, data: List[List[int]]):\n",
    "        \n",
    "        if not all(len(row) == len(data[0]) for row in data):\n",
    "            raise ValueError(\"All rows must have the same number of columns\")\n",
    "        \n",
    "        self._data = data\n",
    "        \n",
    "    @property\n",
    "    def data(self):\n",
    "        return self._data\n",
    "    \n",
    "    @data.setter\n",
    "    def data(self, value: List[List[int]]):\n",
    "        if not isinstance(value, list):\n",
    "            raise TypeError('Data must be a list.')\n",
    "        self._data = value\n",
    "\n",
    "    def size(self):\n",
    "        \"\"\"        \n",
    "        :return: Returns the size of the matrix.\n",
    "        \"\"\"\n",
    "        return len(self.data), len(self.data[0])\n",
    "\n",
    "    def __add__(self, other):\n",
    "        \n",
    "        if self.size() != other.size():            \n",
    "            raise ValueError(\"Matrices must have the same dimensions to be added\")\n",
    "        \n",
    "        result = [\n",
    "            [self.data[i][j] + other.data[i][j] for j in range(len(self.data[0]))]\n",
    "            for i in range(len(self.data))\n",
    "        ]\n",
    "        \n",
    "        return Matrix(result)\n",
    "\n",
    "    def __sub__(self, other):\n",
    "        \n",
    "        if self.size() != other.size():\n",
    "            raise ValueError(\"Matrices must have the same dimensions to be subtracted\")\n",
    "        \n",
    "        result = [\n",
    "            [self.data[i][j] - other.data[i][j] for j in range(len(self.data[0]))]\n",
    "            for i in range(len(self.data))\n",
    "        ]\n",
    "        \n",
    "        return Matrix(result)\n",
    "\n",
    "    def __mul__(self, other):\n",
    "        \n",
    "        if isinstance(other, (int, float)):\n",
    "            result = [\n",
    "                [self.data[i][j] * other for j in range(len(self.data[0]))]\n",
    "                \n",
    "                for i in range(len(self.data))\n",
    "            ]\n",
    "            \n",
    "            return Matrix(result)\n",
    "        \n",
    "        elif isinstance(other, Matrix):\n",
    "            \n",
    "            if self.size()[1] != other.size()[0]:\n",
    "                raise ValueError(\"Matrices must have compatible dimensions to be multiplied\")\n",
    "            \n",
    "            result = [\n",
    "                [\n",
    "                    sum(self.data[i][k] * other.data[k][j] for k in range(self.size()[1]))\n",
    "                    for j in range(other.size()[1])\n",
    "                ]\n",
    "                for i in range(self.size()[0])\n",
    "            ]\n",
    "            \n",
    "            return Matrix(result)\n",
    "        \n",
    "        else:\n",
    "            raise ValueError(\"Unsupported operand type(s) for *: 'Matrix' and '{}'\".format(type(other)))\n",
    "\n",
    "    def __str__(self):\n",
    "        return '\\n'.join([' '.join(map(str, row)) for row in self.data])\n",
    "\n",
    "    def determinant(self):\n",
    "        \"\"\"\n",
    "        :return: Returns the determinant of the matrix.        \n",
    "        \"\"\"\n",
    "        if self.size()[0] != self.size()[1]:\n",
    "            raise ValueError(\"Determinant can only be calculated for square matrices\")\n",
    "        \n",
    "        return self._determinant_recursive(self.data)\n",
    "\n",
    "    def _determinant_recursive(self, matrix):\n",
    "        \"\"\"\n",
    "        Recursive function for determinant calculation.\n",
    "        :param matrix: matrix to calculate the determinant of.\n",
    "        :return: determinant of the matrix.\n",
    "        \"\"\"\n",
    "        if len(matrix) == 1:\n",
    "            return matrix[0][0]\n",
    "        \n",
    "        if len(matrix) == 2:\n",
    "            return matrix[0][0] * matrix[1][1] - matrix[0][1] * matrix[1][0]\n",
    "        \n",
    "        det = 0\n",
    "        \n",
    "        for c in range(len(matrix)):\n",
    "            det += ((-1) ** c) * matrix[0][c] * self._determinant_recursive(self._minor(matrix, 0, c))\n",
    "            \n",
    "        return det\n",
    "\n",
    "    def _minor(self, matrix, i, j):\n",
    "        \"\"\"\n",
    "        Current function is used to calculate the minor of the matrix.\n",
    "        :param matrix: matrix to calculate the minor of.\n",
    "        :param i: index of the row to calculate the minor of.\n",
    "        :param j: index of the column to calculate the minor of.\n",
    "        :return: minor of the matrix.\n",
    "        \"\"\"\n",
    "        return [row[:j] + row[j + 1:] for row in (matrix[:i] + matrix[i + 1:])]\n",
    "\n",
    "    def inverse(self):\n",
    "        \"\"\"        \n",
    "        :return: the inverse of the matrix.\n",
    "        \"\"\"\n",
    "        det = self.determinant()\n",
    "        \n",
    "        if det == 0:\n",
    "            return None\n",
    "        \n",
    "        size = self.size()[0]\n",
    "        \n",
    "        if size == 1:\n",
    "            return Matrix([[1 / self.data[0][0]]])\n",
    "        \n",
    "        cofactors = [\n",
    "            [((-1) ** (i + j)) * self._determinant_recursive(self._minor(self.data, i, j)) for j in range(size)]\n",
    "            for i in range(size)\n",
    "        ]\n",
    "        \n",
    "        cofactors = Matrix(cofactors).transpose().data\n",
    "        \n",
    "        return Matrix([[cofactors[i][j] / det for j in range(size)] for i in range(size)])\n",
    "\n",
    "    def transpose(self):\n",
    "        \"\"\"\n",
    "        Calculates the transpose of the matrix.\n",
    "        :return: Transpose of the matrix.\n",
    "        \"\"\"\n",
    "        transposed = [[self.data[j][i] for j in range(len(self.data))] for i in range(len(self.data[0]))]\n",
    "        \n",
    "        return Matrix(transposed)"
   ],
   "id": "c1963c4467460fe9",
   "outputs": [],
   "execution_count": 6
  },
  {
   "metadata": {
    "ExecuteTime": {
     "end_time": "2024-05-30T11:23:28.019766Z",
     "start_time": "2024-05-30T11:23:28.016503Z"
    }
   },
   "cell_type": "code",
   "source": "print(matrix_one := Matrix([[1, 2, 3], [4, 5, 6], [7, 8, 9]]))",
   "id": "4db8f193adff94dd",
   "outputs": [
    {
     "name": "stdout",
     "output_type": "stream",
     "text": [
      "1 2 3\n",
      "4 5 6\n",
      "7 8 9\n"
     ]
    }
   ],
   "execution_count": 7
  },
  {
   "metadata": {
    "ExecuteTime": {
     "end_time": "2024-05-30T11:23:28.026197Z",
     "start_time": "2024-05-30T11:23:28.020773Z"
    }
   },
   "cell_type": "code",
   "source": "print(matrix_two := Matrix([[10, 11, 12], [13, 14, 15], [16, 17, 18]]))",
   "id": "3c21ff6ecf14273a",
   "outputs": [
    {
     "name": "stdout",
     "output_type": "stream",
     "text": [
      "10 11 12\n",
      "13 14 15\n",
      "16 17 18\n"
     ]
    }
   ],
   "execution_count": 8
  },
  {
   "metadata": {
    "ExecuteTime": {
     "end_time": "2024-05-30T11:23:28.033510Z",
     "start_time": "2024-05-30T11:23:28.029203Z"
    }
   },
   "cell_type": "code",
   "source": "print(matrix_one.transpose())",
   "id": "b4caf22efa45deca",
   "outputs": [
    {
     "name": "stdout",
     "output_type": "stream",
     "text": [
      "1 4 7\n",
      "2 5 8\n",
      "3 6 9\n"
     ]
    }
   ],
   "execution_count": 9
  },
  {
   "metadata": {
    "ExecuteTime": {
     "end_time": "2024-05-30T11:23:28.040828Z",
     "start_time": "2024-05-30T11:23:28.034517Z"
    }
   },
   "cell_type": "code",
   "source": "print(matrix_one.inverse())",
   "id": "c0628f6e182799f6",
   "outputs": [
    {
     "name": "stdout",
     "output_type": "stream",
     "text": [
      "None\n"
     ]
    }
   ],
   "execution_count": 10
  },
  {
   "metadata": {
    "ExecuteTime": {
     "end_time": "2024-05-30T11:23:28.047470Z",
     "start_time": "2024-05-30T11:23:28.041768Z"
    }
   },
   "cell_type": "code",
   "source": "print(matrix_one + matrix_two)",
   "id": "b296f4eca23b248b",
   "outputs": [
    {
     "name": "stdout",
     "output_type": "stream",
     "text": [
      "11 13 15\n",
      "17 19 21\n",
      "23 25 27\n"
     ]
    }
   ],
   "execution_count": 11
  }
 ],
 "metadata": {
  "kernelspec": {
   "display_name": "Python 3",
   "language": "python",
   "name": "python3"
  },
  "language_info": {
   "codemirror_mode": {
    "name": "ipython",
    "version": 2
   },
   "file_extension": ".py",
   "mimetype": "text/x-python",
   "name": "python",
   "nbconvert_exporter": "python",
   "pygments_lexer": "ipython2",
   "version": "2.7.6"
  }
 },
 "nbformat": 4,
 "nbformat_minor": 5
}
