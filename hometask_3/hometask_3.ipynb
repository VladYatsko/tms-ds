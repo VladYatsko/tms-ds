{
 "cells": [
  {
   "metadata": {},
   "cell_type": "markdown",
   "source": "### Task 1. Splitting function",
   "id": "25809b765eb3f709"
  },
  {
   "metadata": {
    "ExecuteTime": {
     "end_time": "2024-05-22T22:07:36.162793Z",
     "start_time": "2024-05-22T22:07:36.156709Z"
    }
   },
   "cell_type": "code",
   "source": [
    "import string\n",
    "import re\n",
    "from typing import List\n",
    "\n",
    "\n",
    "def split_string(text: str) -> List[str]:\n",
    "    \"\"\"\n",
    "    Split a string into a list of words with escaping punctuation and any whitespace.\n",
    "    :param text: text to split.\n",
    "    :return: cleansed list of words.\n",
    "    \"\"\"\n",
    "    return re.split(f'[{re.escape(string.whitespace + string.punctuation)}]+', text)\n",
    "\n",
    "\n",
    "split_string('some text, want to split - it')"
   ],
   "id": "ccd891c37f102c49",
   "outputs": [
    {
     "data": {
      "text/plain": [
       "['some', 'text', 'want', 'to', 'split', 'it']"
      ]
     },
     "execution_count": 1,
     "metadata": {},
     "output_type": "execute_result"
    }
   ],
   "execution_count": 1
  },
  {
   "metadata": {},
   "cell_type": "markdown",
   "source": "### Task 2. Counting water consumption per time.",
   "id": "70f5688af0a77573"
  },
  {
   "metadata": {
    "ExecuteTime": {
     "end_time": "2024-05-22T22:07:36.171676Z",
     "start_time": "2024-05-22T22:07:36.167801Z"
    }
   },
   "cell_type": "code",
   "source": [
    "import math\n",
    "from typing import Union\n",
    "\n",
    "\n",
    "def count_water_consumption(time: Union[int, float]) -> int:\n",
    "    \"\"\"\n",
    "    Count the number of litres consumed for a given time unit.\n",
    "    :param time: hom much time in hours Natan is riding.\n",
    "    :return: final water consumption by Natan during this time.\n",
    "    \"\"\"\n",
    "    return math.floor(time * 0.5)\n",
    "\n",
    "\n",
    "count_water_consumption(5)"
   ],
   "id": "31ab1571d95d14fc",
   "outputs": [
    {
     "data": {
      "text/plain": [
       "2"
      ]
     },
     "execution_count": 2,
     "metadata": {},
     "output_type": "execute_result"
    }
   ],
   "execution_count": 2
  },
  {
   "metadata": {},
   "cell_type": "markdown",
   "source": "### Task 3. Function to create a list of ints.",
   "id": "2b4a59acca4d7b0f"
  },
  {
   "metadata": {
    "ExecuteTime": {
     "end_time": "2024-05-22T22:07:36.183238Z",
     "start_time": "2024-05-22T22:07:36.178681Z"
    }
   },
   "cell_type": "code",
   "source": [
    "def create_list(num: int) -> Union[List[int], None]:\n",
    "    \"\"\"\n",
    "    Create a list with the given number. If number is zero or negative it returns None.\n",
    "    :param num: size of array.\n",
    "    :return: List of elements as sequence from given number to one.\n",
    "    \"\"\"\n",
    "    if num <= 0:\n",
    "        return None\n",
    "    else:\n",
    "        return [number for number in range(num, 0, -1)]\n",
    "\n",
    "\n",
    "create_list(5)"
   ],
   "id": "3de8e4f2f4c6ba02",
   "outputs": [
    {
     "data": {
      "text/plain": [
       "[5, 4, 3, 2, 1]"
      ]
     },
     "execution_count": 3,
     "metadata": {},
     "output_type": "execute_result"
    }
   ],
   "execution_count": 3
  },
  {
   "metadata": {},
   "cell_type": "markdown",
   "source": "### Task 4. Calculate century by given number.",
   "id": "e169059fad9a8d26"
  },
  {
   "metadata": {
    "ExecuteTime": {
     "end_time": "2024-05-22T22:07:36.189134Z",
     "start_time": "2024-05-22T22:07:36.184247Z"
    }
   },
   "cell_type": "code",
   "source": [
    "def calculate_century(year: int) -> int:\n",
    "    \"\"\"\n",
    "    Calculates the century of a given year.\n",
    "    :param year: year to be converted to century.\n",
    "    :return: century of the year.\n",
    "    \"\"\"\n",
    "    if year % 100 == 0:\n",
    "        return int(year / 100)\n",
    "    else:\n",
    "        return math.floor(year / 100) + 1\n",
    "    \n",
    "    \n",
    "calculate_century(1900)"
   ],
   "id": "3fa9e24e5ac2a5cd",
   "outputs": [
    {
     "data": {
      "text/plain": [
       "19"
      ]
     },
     "execution_count": 4,
     "metadata": {},
     "output_type": "execute_result"
    }
   ],
   "execution_count": 4
  },
  {
   "metadata": {
    "ExecuteTime": {
     "end_time": "2024-05-22T22:07:36.194988Z",
     "start_time": "2024-05-22T22:07:36.190661Z"
    }
   },
   "cell_type": "code",
   "source": "calculate_century(1901)",
   "id": "7dfe3eae5241f1c4",
   "outputs": [
    {
     "data": {
      "text/plain": [
       "20"
      ]
     },
     "execution_count": 5,
     "metadata": {},
     "output_type": "execute_result"
    }
   ],
   "execution_count": 5
  },
  {
   "metadata": {},
   "cell_type": "markdown",
   "source": "### Task 5. Split number to the list.",
   "id": "68f7a1f4c0bb70ca"
  },
  {
   "metadata": {
    "ExecuteTime": {
     "end_time": "2024-05-22T22:07:36.201974Z",
     "start_time": "2024-05-22T22:07:36.195995Z"
    }
   },
   "cell_type": "code",
   "source": [
    "import random\n",
    "\n",
    "\n",
    "def split_number(num: int) -> str:\n",
    "    \"\"\"\n",
    "    Split a given number into reversed list with each number.\n",
    "    :param num: given number to be split into reversed list.\n",
    "    :return: string with given number and its reversed list.\n",
    "    \"\"\"\n",
    "    return f'{num} -> {[int(number) for number in str(num)][::-1]}'\n",
    "\n",
    "\n",
    "split_number(random.randint(1000, 1000000))"
   ],
   "id": "cac1563b00e70b54",
   "outputs": [
    {
     "data": {
      "text/plain": [
       "'821175 -> [5, 7, 1, 1, 2, 8]'"
      ]
     },
     "execution_count": 6,
     "metadata": {},
     "output_type": "execute_result"
    }
   ],
   "execution_count": 6
  },
  {
   "metadata": {},
   "cell_type": "markdown",
   "source": "### Task 6. Create quadratic matrices.",
   "id": "89fc9310fb7507db"
  },
  {
   "metadata": {
    "ExecuteTime": {
     "end_time": "2024-05-22T22:07:36.208463Z",
     "start_time": "2024-05-22T22:07:36.202980Z"
    }
   },
   "cell_type": "code",
   "source": [
    "def fill_the_matrices_up_to_down(order: int) -> List[List[int]]:\n",
    "    \"\"\"\n",
    "    Current function fills the quadratic array up to down depending on the column number. (In ascending and descending order).\n",
    "    :param order: number of arrays and elements of array. \n",
    "    :return: The filled quadratic array.\n",
    "    \"\"\"\n",
    "    initial_array = [[None for _ in range(order)] for _ in range(order)]\n",
    "    increment = 1\n",
    "    for j in range(len(initial_array)):\n",
    "        for i in range(len(initial_array)):\n",
    "            if j % 2 == 0:\n",
    "                initial_array[i][j] = increment\n",
    "                increment += 1\n",
    "                if increment == order + 1:\n",
    "                    increment = 1\n",
    "            else:\n",
    "                initial_array[-(i + 1)][j] = increment\n",
    "                increment += 1\n",
    "                if increment == order + 1:\n",
    "                    increment = 1\n",
    "    return initial_array\n",
    "\n",
    "\n",
    "fill_the_matrices_up_to_down(10)"
   ],
   "id": "a291fb7b1cec236f",
   "outputs": [
    {
     "data": {
      "text/plain": [
       "[[1, 10, 1, 10, 1, 10, 1, 10, 1, 10],\n",
       " [2, 9, 2, 9, 2, 9, 2, 9, 2, 9],\n",
       " [3, 8, 3, 8, 3, 8, 3, 8, 3, 8],\n",
       " [4, 7, 4, 7, 4, 7, 4, 7, 4, 7],\n",
       " [5, 6, 5, 6, 5, 6, 5, 6, 5, 6],\n",
       " [6, 5, 6, 5, 6, 5, 6, 5, 6, 5],\n",
       " [7, 4, 7, 4, 7, 4, 7, 4, 7, 4],\n",
       " [8, 3, 8, 3, 8, 3, 8, 3, 8, 3],\n",
       " [9, 2, 9, 2, 9, 2, 9, 2, 9, 2],\n",
       " [10, 1, 10, 1, 10, 1, 10, 1, 10, 1]]"
      ]
     },
     "execution_count": 7,
     "metadata": {},
     "output_type": "execute_result"
    }
   ],
   "execution_count": 7
  },
  {
   "metadata": {
    "ExecuteTime": {
     "end_time": "2024-05-22T22:07:36.215006Z",
     "start_time": "2024-05-22T22:07:36.209469Z"
    }
   },
   "cell_type": "code",
   "source": [
    "def fill_the_matrices_left_to_right(order: int) -> List[List[int]]:\n",
    "    \"\"\"\n",
    "    Current function fills the quadratic array left to right depending on the row number. (In ascending and descending order).\n",
    "    :param order: number of arrays and elements of array.\n",
    "    :return: The filled quadratic array.\n",
    "    \"\"\"\n",
    "    initial_array = [[None for _ in range(order)] for _ in range(order)]\n",
    "    increment = 1\n",
    "    for i in range(len(initial_array)):\n",
    "        for j in range(len(initial_array)):\n",
    "            if i % 2 == 0:\n",
    "                initial_array[i][j] = increment\n",
    "                increment += 1\n",
    "                if increment == order + 1:\n",
    "                    increment = 1\n",
    "            else:\n",
    "                initial_array[i][-(j + 1)] = increment\n",
    "                increment += 1\n",
    "                if increment == order + 1:\n",
    "                    increment = 1\n",
    "    return initial_array\n",
    "\n",
    "\n",
    "fill_the_matrices_left_to_right(10)"
   ],
   "id": "3967d82153c67f4e",
   "outputs": [
    {
     "data": {
      "text/plain": [
       "[[1, 2, 3, 4, 5, 6, 7, 8, 9, 10],\n",
       " [10, 9, 8, 7, 6, 5, 4, 3, 2, 1],\n",
       " [1, 2, 3, 4, 5, 6, 7, 8, 9, 10],\n",
       " [10, 9, 8, 7, 6, 5, 4, 3, 2, 1],\n",
       " [1, 2, 3, 4, 5, 6, 7, 8, 9, 10],\n",
       " [10, 9, 8, 7, 6, 5, 4, 3, 2, 1],\n",
       " [1, 2, 3, 4, 5, 6, 7, 8, 9, 10],\n",
       " [10, 9, 8, 7, 6, 5, 4, 3, 2, 1],\n",
       " [1, 2, 3, 4, 5, 6, 7, 8, 9, 10],\n",
       " [10, 9, 8, 7, 6, 5, 4, 3, 2, 1]]"
      ]
     },
     "execution_count": 8,
     "metadata": {},
     "output_type": "execute_result"
    }
   ],
   "execution_count": 8
  },
  {
   "metadata": {},
   "cell_type": "markdown",
   "source": "### Solution for the task 1 from the lesson",
   "id": "2010a51cd1847076"
  },
  {
   "metadata": {
    "ExecuteTime": {
     "end_time": "2024-05-22T22:07:36.260674Z",
     "start_time": "2024-05-22T22:07:36.255179Z"
    }
   },
   "cell_type": "code",
   "source": [
    "def fill_the_diagonal(size: int) -> List[List[int]]:\n",
    "    \"\"\"\n",
    "    Refills the arrays with 1 in diagonal way.\n",
    "    :param size: defines the size of the array.\n",
    "    :return: refilled list.\n",
    "    \"\"\"\n",
    "    initial_array = [[0 for _ in range(size)] for _ in range(size)]\n",
    "    \n",
    "    for i in range(len(initial_array)):\n",
    "        for j in range(len(initial_array)):\n",
    "            while j <= i:                \n",
    "                initial_array[i][j] = 1    \n",
    "                j += 1\n",
    "                \n",
    "    return initial_array\n",
    "\n",
    "\n",
    "fill_the_diagonal(10)"
   ],
   "id": "499bc77578c07d97",
   "outputs": [
    {
     "data": {
      "text/plain": [
       "[[1, 0, 0, 0, 0, 0, 0, 0, 0, 0],\n",
       " [1, 1, 0, 0, 0, 0, 0, 0, 0, 0],\n",
       " [1, 1, 1, 0, 0, 0, 0, 0, 0, 0],\n",
       " [1, 1, 1, 1, 0, 0, 0, 0, 0, 0],\n",
       " [1, 1, 1, 1, 1, 0, 0, 0, 0, 0],\n",
       " [1, 1, 1, 1, 1, 1, 0, 0, 0, 0],\n",
       " [1, 1, 1, 1, 1, 1, 1, 0, 0, 0],\n",
       " [1, 1, 1, 1, 1, 1, 1, 1, 0, 0],\n",
       " [1, 1, 1, 1, 1, 1, 1, 1, 1, 0],\n",
       " [1, 1, 1, 1, 1, 1, 1, 1, 1, 1]]"
      ]
     },
     "execution_count": 9,
     "metadata": {},
     "output_type": "execute_result"
    }
   ],
   "execution_count": 9
  },
  {
   "metadata": {},
   "cell_type": "markdown",
   "source": "### Solution for the task 2 from the lesson",
   "id": "49853afcb399a091"
  },
  {
   "metadata": {
    "ExecuteTime": {
     "end_time": "2024-05-22T22:07:36.275128Z",
     "start_time": "2024-05-22T22:07:36.268680Z"
    }
   },
   "cell_type": "code",
   "source": [
    "def create_hourglass_array(size: int) -> List[List[int]]:\n",
    "    \"\"\"\n",
    "    Creates the hourglass array.\n",
    "    :param size: defines the size of the array.\n",
    "    :return: refilled list.\n",
    "    \"\"\"\n",
    "    initial_array = [[0 for _ in range(size)] for _ in range(size)]\n",
    "\n",
    "    for i in range(size):\n",
    "        for j in range(size):            \n",
    "            if i <= size // 2:\n",
    "                if i <= j < size - i:\n",
    "                    initial_array[i][j] = 1            \n",
    "            else:\n",
    "                if size - i - 1 <= j <= i:\n",
    "                    initial_array[i][j] = 1\n",
    "\n",
    "    return initial_array\n",
    "\n",
    "create_hourglass_array(5)"
   ],
   "id": "5966da52a97bf743",
   "outputs": [
    {
     "data": {
      "text/plain": [
       "[[1, 1, 1, 1, 1],\n",
       " [0, 1, 1, 1, 0],\n",
       " [0, 0, 1, 0, 0],\n",
       " [0, 1, 1, 1, 0],\n",
       " [1, 1, 1, 1, 1]]"
      ]
     },
     "execution_count": 10,
     "metadata": {},
     "output_type": "execute_result"
    }
   ],
   "execution_count": 10
  },
  {
   "metadata": {},
   "cell_type": "markdown",
   "source": "### Solution for the task 3 from the lesson",
   "id": "faaa8eab05f14255"
  },
  {
   "metadata": {
    "ExecuteTime": {
     "end_time": "2024-05-22T22:07:36.283720Z",
     "start_time": "2024-05-22T22:07:36.277134Z"
    }
   },
   "cell_type": "code",
   "source": [
    "def create_side_triangle_array(size:int) -> List[List[int]]:\n",
    "    \"\"\"\n",
    "    Creates the side triangle array.\n",
    "    :param size: defines the size of the array.\n",
    "    :return: refilled list.\n",
    "    \"\"\"\n",
    "    initial_array = [[0 for _ in range(size)] for _ in range(size)]\n",
    "    \n",
    "    for i in range(size // 2):\n",
    "        for j in range(size - i - 1, size):\n",
    "            initial_array[i][j] = 1\n",
    "            initial_array[size - i - 1][j] = 1\n",
    "\n",
    "    return initial_array\n",
    "\n",
    "\n",
    "create_side_triangle_array(8)"
   ],
   "id": "535015876c9e5c4b",
   "outputs": [
    {
     "data": {
      "text/plain": [
       "[[0, 0, 0, 0, 0, 0, 0, 1],\n",
       " [0, 0, 0, 0, 0, 0, 1, 1],\n",
       " [0, 0, 0, 0, 0, 1, 1, 1],\n",
       " [0, 0, 0, 0, 1, 1, 1, 1],\n",
       " [0, 0, 0, 0, 1, 1, 1, 1],\n",
       " [0, 0, 0, 0, 0, 1, 1, 1],\n",
       " [0, 0, 0, 0, 0, 0, 1, 1],\n",
       " [0, 0, 0, 0, 0, 0, 0, 1]]"
      ]
     },
     "execution_count": 11,
     "metadata": {},
     "output_type": "execute_result"
    }
   ],
   "execution_count": 11
  }
 ],
 "metadata": {
  "kernelspec": {
   "display_name": "Python 3",
   "language": "python",
   "name": "python3"
  },
  "language_info": {
   "codemirror_mode": {
    "name": "ipython",
    "version": 2
   },
   "file_extension": ".py",
   "mimetype": "text/x-python",
   "name": "python",
   "nbconvert_exporter": "python",
   "pygments_lexer": "ipython2",
   "version": "2.7.6"
  }
 },
 "nbformat": 4,
 "nbformat_minor": 5
}
