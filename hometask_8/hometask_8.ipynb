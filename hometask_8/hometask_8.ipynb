{
 "cells": [
  {
   "cell_type": "code",
   "id": "initial_id",
   "metadata": {
    "collapsed": true,
    "ExecuteTime": {
     "end_time": "2024-06-09T13:29:43.687594Z",
     "start_time": "2024-06-09T13:29:42.071128Z"
    }
   },
   "source": "!pip install sqlalchemy",
   "outputs": [
    {
     "name": "stdout",
     "output_type": "stream",
     "text": [
      "Requirement already satisfied: sqlalchemy in c:\\users\\yatsk\\pycharmprojects\\tms-ds\\venv\\lib\\site-packages (2.0.30)\n",
      "Requirement already satisfied: typing-extensions>=4.6.0 in c:\\users\\yatsk\\pycharmprojects\\tms-ds\\venv\\lib\\site-packages (from sqlalchemy) (4.11.0)\n",
      "Requirement already satisfied: greenlet!=0.4.17 in c:\\users\\yatsk\\pycharmprojects\\tms-ds\\venv\\lib\\site-packages (from sqlalchemy) (3.0.3)\n"
     ]
    },
    {
     "name": "stderr",
     "output_type": "stream",
     "text": [
      "\n",
      "[notice] A new release of pip is available: 23.2.1 -> 24.0\n",
      "[notice] To update, run: python.exe -m pip install --upgrade pip\n"
     ]
    }
   ],
   "execution_count": 84
  },
  {
   "metadata": {},
   "cell_type": "markdown",
   "source": "### Creating database.",
   "id": "9ef1d7774c0fbb1d"
  },
  {
   "metadata": {
    "ExecuteTime": {
     "end_time": "2024-06-09T13:29:43.691391Z",
     "start_time": "2024-06-09T13:29:43.687594Z"
    }
   },
   "cell_type": "code",
   "source": [
    "import sqlalchemy as db\n",
    "\n",
    "\n",
    "engine = db.create_engine('sqlite:///Enterprise.db')\n",
    "connection = engine.connect()\n",
    "metadata = db.MetaData()"
   ],
   "id": "5913d5855b292ca7",
   "outputs": [],
   "execution_count": 85
  },
  {
   "metadata": {},
   "cell_type": "markdown",
   "source": "### Creating Department table",
   "id": "7087973e7f688148"
  },
  {
   "metadata": {
    "ExecuteTime": {
     "end_time": "2024-06-09T13:29:43.695610Z",
     "start_time": "2024-06-09T13:29:43.692396Z"
    }
   },
   "cell_type": "code",
   "source": [
    "department = db.Table('Department', metadata,\n",
    "                      db.Column('id', db.Integer, primary_key=True),\n",
    "                      db.Column('department_name', db.String(50), nullable=False))"
   ],
   "id": "6ea85b3e97c204bf",
   "outputs": [],
   "execution_count": 86
  },
  {
   "metadata": {},
   "cell_type": "markdown",
   "source": "### Creating Job Title table",
   "id": "2ace93ef5dc243ed"
  },
  {
   "metadata": {
    "ExecuteTime": {
     "end_time": "2024-06-09T13:29:43.699842Z",
     "start_time": "2024-06-09T13:29:43.696617Z"
    }
   },
   "cell_type": "code",
   "source": [
    "job_title = db.Table('Job_Title', metadata,\n",
    "                     db.Column('id', db.Integer, primary_key=True),\n",
    "                     db.Column('job_name', db.String(50), nullable=False))"
   ],
   "id": "28e5d1347b8d403c",
   "outputs": [],
   "execution_count": 87
  },
  {
   "metadata": {},
   "cell_type": "markdown",
   "source": "### Creating Employees table",
   "id": "adb14eb6ee649f58"
  },
  {
   "metadata": {
    "ExecuteTime": {
     "end_time": "2024-06-09T13:29:43.704472Z",
     "start_time": "2024-06-09T13:29:43.700849Z"
    }
   },
   "cell_type": "code",
   "source": [
    "employees = db.Table('Employees', metadata,\n",
    "                     db.Column('id', db.Integer, primary_key=True),\n",
    "                     db.Column('name', db.String(50), nullable=False),\n",
    "                     db.Column('department_id', db.Integer, db.ForeignKey('Department.id')),\n",
    "                     db.Column('job_title_id', db.Integer, db.ForeignKey('Job_Title.id')))"
   ],
   "id": "67ddccbd8641b112",
   "outputs": [],
   "execution_count": 88
  },
  {
   "metadata": {},
   "cell_type": "markdown",
   "source": "### Creating Salary table",
   "id": "61174db5ad1b981f"
  },
  {
   "metadata": {
    "ExecuteTime": {
     "end_time": "2024-06-09T13:29:43.708412Z",
     "start_time": "2024-06-09T13:29:43.705478Z"
    }
   },
   "cell_type": "code",
   "source": [
    "salary = db.Table('Salary', metadata,\n",
    "                  db.Column('id', db.Integer, primary_key=True),\n",
    "                  db.Column('amount', db.Integer, nullable=False),\n",
    "                  db.Column('employee_id', db.Integer, db.ForeignKey('Employees.id'), unique=True))"
   ],
   "id": "e2917ce6df473913",
   "outputs": [],
   "execution_count": 89
  },
  {
   "metadata": {},
   "cell_type": "markdown",
   "source": "### Adding tables to the database",
   "id": "dd0985e27fefb28"
  },
  {
   "metadata": {
    "ExecuteTime": {
     "end_time": "2024-06-09T13:29:43.713161Z",
     "start_time": "2024-06-09T13:29:43.709419Z"
    }
   },
   "cell_type": "code",
   "source": "metadata.create_all(engine)",
   "id": "90eb4d1fbb6177e5",
   "outputs": [],
   "execution_count": 90
  },
  {
   "metadata": {},
   "cell_type": "markdown",
   "source": "### Inserting values to Department",
   "id": "4b5327eb2df21ed3"
  },
  {
   "metadata": {
    "ExecuteTime": {
     "end_time": "2024-06-09T13:29:43.719433Z",
     "start_time": "2024-06-09T13:29:43.713677Z"
    }
   },
   "cell_type": "code",
   "source": [
    "connection.execute(\n",
    "    department.insert().values([\n",
    "        {'department_name': 'IT'},\n",
    "        {'department_name': 'Service'},\n",
    "        {'department_name': 'Finance'}\n",
    "]))"
   ],
   "id": "dbbb4b1d521c1756",
   "outputs": [
    {
     "data": {
      "text/plain": [
       "<sqlalchemy.engine.cursor.CursorResult at 0x256e197d470>"
      ]
     },
     "execution_count": 91,
     "metadata": {},
     "output_type": "execute_result"
    }
   ],
   "execution_count": 91
  },
  {
   "metadata": {},
   "cell_type": "markdown",
   "source": "### Inserting values to Job Title",
   "id": "fbc2434985ed67c9"
  },
  {
   "metadata": {
    "ExecuteTime": {
     "end_time": "2024-06-09T13:29:43.724458Z",
     "start_time": "2024-06-09T13:29:43.720439Z"
    }
   },
   "cell_type": "code",
   "source": [
    "connection.execute(\n",
    "    job_title.insert().values([\n",
    "        {'job_name': 'Software Engineer'},\n",
    "        {'job_name': 'QA Engineer'},\n",
    "        {'job_name': 'Physical Security'},\n",
    "        {'job_name': 'Accountant'},\n",
    "        {'job_name': 'Plumber'}\n",
    "]))"
   ],
   "id": "a77d76529674cf2",
   "outputs": [
    {
     "data": {
      "text/plain": [
       "<sqlalchemy.engine.cursor.CursorResult at 0x256e197da20>"
      ]
     },
     "execution_count": 92,
     "metadata": {},
     "output_type": "execute_result"
    }
   ],
   "execution_count": 92
  },
  {
   "metadata": {},
   "cell_type": "markdown",
   "source": "### Inserting values to Employee",
   "id": "8cd88113cb9e376e"
  },
  {
   "metadata": {
    "ExecuteTime": {
     "end_time": "2024-06-09T13:29:43.731160Z",
     "start_time": "2024-06-09T13:29:43.725463Z"
    }
   },
   "cell_type": "code",
   "source": [
    "connection.execute(\n",
    "    employees.insert().values([\n",
    "        {'name': 'John Smith', 'department_id': 1, 'job_title_id': 1},\n",
    "        {'name': 'Sherlock Holmes', 'department_id': 1, 'job_title_id': 2},\n",
    "        {'name': 'Stephen King', 'department_id': 2, 'job_title_id': 3},\n",
    "        {'name': 'David Beckham', 'department_id': 1, 'job_title_id': 1},\n",
    "        {'name': 'Mary Jane', 'department_id': 3, 'job_title_id': 4},\n",
    "        {'name': 'Samanta Smith', 'department_id': 3, 'job_title_id': 4},\n",
    "        {'name': 'Jason Statham', 'department_id': 2, 'job_title_id': 3},\n",
    "        {'name': 'Sam Smith', 'department_id': 2, 'job_title_id': 5},\n",
    "        {'name': 'Will Smith', 'department_id': 1, 'job_title_id': 2},\n",
    "        {'name': 'Jon Jones', 'department_id': 2, 'job_title_id': 3},\n",
    "        {'name': 'Connor McGregor', 'department_id': 2, 'job_title_id': 3},\n",
    "]))"
   ],
   "id": "95a6118b42f22c0e",
   "outputs": [
    {
     "data": {
      "text/plain": [
       "<sqlalchemy.engine.cursor.CursorResult at 0x256ddc8a040>"
      ]
     },
     "execution_count": 93,
     "metadata": {},
     "output_type": "execute_result"
    }
   ],
   "execution_count": 93
  },
  {
   "metadata": {},
   "cell_type": "markdown",
   "source": "### Inserting values to Salary",
   "id": "65398562f75b9c35"
  },
  {
   "metadata": {
    "ExecuteTime": {
     "end_time": "2024-06-09T13:29:43.737234Z",
     "start_time": "2024-06-09T13:29:43.731160Z"
    }
   },
   "cell_type": "code",
   "source": [
    "import random\n",
    "\n",
    "\n",
    "connection.execute(\n",
    "    salary.insert().values([\n",
    "        {'amount': random.randint(500, 10000), 'employee_id': 1},\n",
    "        {'amount': random.randint(500, 10000), 'employee_id': 2},\n",
    "        {'amount': random.randint(500, 10000), 'employee_id': 3},\n",
    "        {'amount': random.randint(500, 10000), 'employee_id': 4},\n",
    "        {'amount': random.randint(500, 10000), 'employee_id': 5},\n",
    "        {'amount': random.randint(500, 10000), 'employee_id': 6},\n",
    "        {'amount': random.randint(500, 10000), 'employee_id': 7},\n",
    "        {'amount': random.randint(500, 10000), 'employee_id': 8},\n",
    "        {'amount': random.randint(500, 10000), 'employee_id': 9},\n",
    "        {'amount': random.randint(500, 10000), 'employee_id': 10},\n",
    "        {'amount': random.randint(500, 10000), 'employee_id': 11},\n",
    "]))"
   ],
   "id": "f22531f6f2ff4dfb",
   "outputs": [
    {
     "data": {
      "text/plain": [
       "<sqlalchemy.engine.cursor.CursorResult at 0x256e19599b0>"
      ]
     },
     "execution_count": 94,
     "metadata": {},
     "output_type": "execute_result"
    }
   ],
   "execution_count": 94
  },
  {
   "metadata": {},
   "cell_type": "markdown",
   "source": "### Displaying all the content from the tables",
   "id": "b61f6119f14dfc6"
  },
  {
   "metadata": {
    "ExecuteTime": {
     "end_time": "2024-06-09T13:29:43.741311Z",
     "start_time": "2024-06-09T13:29:43.737234Z"
    }
   },
   "cell_type": "code",
   "source": [
    "connection.exec_driver_sql('SELECT '\n",
    "                           '    * '\n",
    "                           'FROM '\n",
    "                           '    Salary AS s '\n",
    "                           'JOIN '\n",
    "                           '    Employees AS e ON s.employee_id = e.id '\n",
    "                           'JOIN '\n",
    "                           '    Department AS d ON e.department_id = d.id '\n",
    "                           'JOIN '\n",
    "                           '    Job_Title AS jt ON e.job_title_id = jt.id '\n",
    "                           ).fetchall()"
   ],
   "id": "1d57d09039c43fcb",
   "outputs": [
    {
     "data": {
      "text/plain": [
       "[(1, 6306, 1, 1, 'John Smith', 1, 1, 1, 'IT', 1, 'Software Engineer'),\n",
       " (2, 4222, 2, 2, 'Sherlock Holmes', 1, 2, 1, 'IT', 2, 'QA Engineer'),\n",
       " (3, 1381, 3, 3, 'Stephen King', 2, 3, 2, 'Service', 3, 'Physical Security'),\n",
       " (4, 1552, 4, 4, 'David Beckham', 1, 1, 1, 'IT', 1, 'Software Engineer'),\n",
       " (5, 3001, 5, 5, 'Mary Jane', 3, 4, 3, 'Finance', 4, 'Accountant'),\n",
       " (6, 2567, 6, 6, 'Samanta Smith', 3, 4, 3, 'Finance', 4, 'Accountant'),\n",
       " (7, 9225, 7, 7, 'Jason Statham', 2, 3, 2, 'Service', 3, 'Physical Security'),\n",
       " (8, 4878, 8, 8, 'Sam Smith', 2, 5, 2, 'Service', 5, 'Plumber'),\n",
       " (9, 6938, 9, 9, 'Will Smith', 1, 2, 1, 'IT', 2, 'QA Engineer'),\n",
       " (10, 3912, 10, 10, 'Jon Jones', 2, 3, 2, 'Service', 3, 'Physical Security'),\n",
       " (11, 776, 11, 11, 'Connor McGregor', 2, 3, 2, 'Service', 3, 'Physical Security')]"
      ]
     },
     "execution_count": 95,
     "metadata": {},
     "output_type": "execute_result"
    }
   ],
   "execution_count": 95
  },
  {
   "metadata": {},
   "cell_type": "markdown",
   "source": "### Finding average salary by department",
   "id": "60028545d91039ef"
  },
  {
   "metadata": {
    "ExecuteTime": {
     "end_time": "2024-06-09T13:29:43.746091Z",
     "start_time": "2024-06-09T13:29:43.742318Z"
    }
   },
   "cell_type": "code",
   "source": [
    "connection.exec_driver_sql('SELECT '\n",
    "                           '    d.department_name, '\n",
    "                           '    AVG(s.amount) AS AVG_SALARY '\n",
    "                           'FROM '\n",
    "                           '    Salary AS s '\n",
    "                           'JOIN '\n",
    "                           '    Employees AS e ON s.employee_id = e.id '\n",
    "                           'JOIN '\n",
    "                           '    Department AS d ON e.department_id = d.id '\n",
    "                           'JOIN '\n",
    "                           '    Job_Title AS jt ON e.job_title_id = jt.id '\n",
    "                           'GROUP BY '\n",
    "                           '    d.department_name ').fetchall()"
   ],
   "id": "f9f9a1e2d6c57fcb",
   "outputs": [
    {
     "data": {
      "text/plain": [
       "[('Finance', 2784.0), ('IT', 4754.5), ('Service', 4034.4)]"
      ]
     },
     "execution_count": 96,
     "metadata": {},
     "output_type": "execute_result"
    }
   ],
   "execution_count": 96
  },
  {
   "metadata": {},
   "cell_type": "markdown",
   "source": "### Finding average salary by job title",
   "id": "bd2cb38830c1dd3f"
  },
  {
   "metadata": {
    "ExecuteTime": {
     "end_time": "2024-06-09T13:29:43.750388Z",
     "start_time": "2024-06-09T13:29:43.747098Z"
    }
   },
   "cell_type": "code",
   "source": [
    "connection.exec_driver_sql('SELECT '\n",
    "                           '    jt.job_name, '\n",
    "                           '    AVG(s.amount) AS AVG_SALARY '\n",
    "                           'FROM '\n",
    "                           '    Salary AS s '\n",
    "                           'JOIN '\n",
    "                           '    Employees AS e ON s.employee_id = e.id '\n",
    "                           'JOIN '\n",
    "                           '    Department AS d ON e.department_id = d.id '\n",
    "                           'JOIN '\n",
    "                           '    Job_Title AS jt ON e.job_title_id = jt.id '\n",
    "                           'GROUP BY '\n",
    "                           '    jt.job_name ').fetchall()"
   ],
   "id": "f305698ddd8fb183",
   "outputs": [
    {
     "data": {
      "text/plain": [
       "[('Accountant', 2784.0),\n",
       " ('Physical Security', 3823.5),\n",
       " ('Plumber', 4878.0),\n",
       " ('QA Engineer', 5580.0),\n",
       " ('Software Engineer', 3929.0)]"
      ]
     },
     "execution_count": 97,
     "metadata": {},
     "output_type": "execute_result"
    }
   ],
   "execution_count": 97
  },
  {
   "metadata": {},
   "cell_type": "markdown",
   "source": "### Finding departments with quantity of employees > 3",
   "id": "37a2da004dfa8262"
  },
  {
   "metadata": {
    "ExecuteTime": {
     "end_time": "2024-06-09T13:29:43.754961Z",
     "start_time": "2024-06-09T13:29:43.751395Z"
    }
   },
   "cell_type": "code",
   "source": [
    "connection.exec_driver_sql('SELECT '\n",
    "                           '    d.department_name, '\n",
    "                           '    COUNT(e.name) AS EMPLOYEE_COUNT '\n",
    "                           'FROM '\n",
    "                           '    Salary AS s '\n",
    "                           'JOIN '\n",
    "                           '    Employees AS e ON s.employee_id = e.id '\n",
    "                           'JOIN '\n",
    "                           '    Department AS d ON e.department_id = d.id '\n",
    "                           'JOIN '\n",
    "                           '    Job_Title AS jt ON e.job_title_id = jt.id '\n",
    "                           'GROUP BY '\n",
    "                           '    d.department_name '\n",
    "                           'HAVING '\n",
    "                           '    EMPLOYEE_COUNT > 3 '\n",
    "                           'ORDER BY '\n",
    "                           '    EMPLOYEE_COUNT DESC ').fetchall()"
   ],
   "id": "8539d7445f0efc01",
   "outputs": [
    {
     "data": {
      "text/plain": [
       "[('Service', 5), ('IT', 4)]"
      ]
     },
     "execution_count": 98,
     "metadata": {},
     "output_type": "execute_result"
    }
   ],
   "execution_count": 98
  },
  {
   "metadata": {},
   "cell_type": "markdown",
   "source": "### Finding max salary for each department",
   "id": "22f20622217b02a0"
  },
  {
   "metadata": {
    "ExecuteTime": {
     "end_time": "2024-06-09T13:29:43.760351Z",
     "start_time": "2024-06-09T13:29:43.755967Z"
    }
   },
   "cell_type": "code",
   "source": [
    "connection.exec_driver_sql('SELECT '\n",
    "                           '    d.department_name, '\n",
    "                           '    MAX(s.amount) AS MAX_SALARY '\n",
    "                           'FROM '\n",
    "                           '    Salary AS s '\n",
    "                           'JOIN '\n",
    "                           '    Employees AS e ON s.employee_id = e.id '\n",
    "                           'JOIN '\n",
    "                           '    Department AS d ON e.department_id = d.id '\n",
    "                           'JOIN '\n",
    "                           '    Job_Title AS jt ON e.job_title_id = jt.id '\n",
    "                           'GROUP BY '\n",
    "                           '    d.department_name '\n",
    "                           'ORDER BY '\n",
    "                           '    MAX_SALARY DESC'\n",
    "                           ).fetchall()"
   ],
   "id": "2a0d40bb04dba11e",
   "outputs": [
    {
     "data": {
      "text/plain": [
       "[('Service', 9225), ('IT', 6938), ('Finance', 3001)]"
      ]
     },
     "execution_count": 99,
     "metadata": {},
     "output_type": "execute_result"
    }
   ],
   "execution_count": 99
  },
  {
   "metadata": {},
   "cell_type": "markdown",
   "source": "### Finding top 4 of employees with the highest salary",
   "id": "e9a3828782a673a"
  },
  {
   "metadata": {
    "ExecuteTime": {
     "end_time": "2024-06-09T13:29:43.765155Z",
     "start_time": "2024-06-09T13:29:43.761357Z"
    }
   },
   "cell_type": "code",
   "source": [
    "connection.exec_driver_sql('SELECT '\n",
    "                           '    name, '\n",
    "                           '    amount '\n",
    "                           'FROM ('\n",
    "                           '    SELECT '\n",
    "                           '        e.name,'\n",
    "                           '        s.amount'                           \n",
    "                           '    FROM '\n",
    "                           '        Salary AS s '\n",
    "                           '    JOIN '\n",
    "                           '        Employees AS e ON s.employee_id = e.id '\n",
    "                           '    JOIN '\n",
    "                           '        Department AS d ON e.department_id = d.id '\n",
    "                           '    JOIN '\n",
    "                           '        Job_Title AS jt ON e.job_title_id = jt.id'\n",
    "                           '    ORDER BY s.amount DESC'\n",
    "                           '    LIMIT 4) AS grouped_salaries '                           \n",
    "                           ).fetchall()"
   ],
   "id": "ae2e3078be631f94",
   "outputs": [
    {
     "data": {
      "text/plain": [
       "[('Jason Statham', 9225),\n",
       " ('Will Smith', 6938),\n",
       " ('John Smith', 6306),\n",
       " ('Sam Smith', 4878)]"
      ]
     },
     "execution_count": 100,
     "metadata": {},
     "output_type": "execute_result"
    }
   ],
   "execution_count": 100
  },
  {
   "metadata": {},
   "cell_type": "markdown",
   "source": "### Closing the connection",
   "id": "e505c9b5f032a46e"
  },
  {
   "metadata": {
    "ExecuteTime": {
     "end_time": "2024-06-09T13:29:43.769138Z",
     "start_time": "2024-06-09T13:29:43.766162Z"
    }
   },
   "cell_type": "code",
   "source": "connection.close()",
   "id": "670de4ae7d59e33e",
   "outputs": [],
   "execution_count": 101
  }
 ],
 "metadata": {
  "kernelspec": {
   "display_name": "Python 3",
   "language": "python",
   "name": "python3"
  },
  "language_info": {
   "codemirror_mode": {
    "name": "ipython",
    "version": 2
   },
   "file_extension": ".py",
   "mimetype": "text/x-python",
   "name": "python",
   "nbconvert_exporter": "python",
   "pygments_lexer": "ipython2",
   "version": "2.7.6"
  }
 },
 "nbformat": 4,
 "nbformat_minor": 5
}
